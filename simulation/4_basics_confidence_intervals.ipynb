{
  "nbformat": 4,
  "nbformat_minor": 0,
  "metadata": {
    "colab": {
      "provenance": [],
      "authorship_tag": "ABX9TyOU+90dYSut2TkdF2EdQZ/c"
    },
    "kernelspec": {
      "name": "python3",
      "display_name": "Python 3"
    },
    "language_info": {
      "name": "python"
    }
  },
  "cells": [
    {
      "cell_type": "markdown",
      "source": [
        "# 4. Experimentation Basics: Confidence Intervals"
      ],
      "metadata": {
        "id": "ycaqViIls4DP"
      }
    },
    {
      "cell_type": "markdown",
      "source": [
        "*note: if you see any mistakes, please feel free to let me know so that I can improve the notebook!*\n",
        "\n",
        "In this notebook, we will talk about confidence intervals.\n",
        "\n",
        "First, we'll copy over an example from Wikipedia. As it is a classroom-esque example, there will be practicality questions, but the purpose is to learn how to calculate it.\n",
        "\n",
        "Then, we'll show how the results vary with higher sample size.\n",
        "\n",
        "We then define it formally.\n",
        "\n",
        "Finally, we'll show how $p$-values and confidence intervals are related."
      ],
      "metadata": {
        "id": "269iavBRtOlU"
      }
    },
    {
      "cell_type": "markdown",
      "source": [
        "## Intuition"
      ],
      "metadata": {
        "id": "BJ09SZAma2zP"
      }
    },
    {
      "cell_type": "markdown",
      "source": [
        "In frequentist statistics, a confidence interval (CI) is an interval which is expected to contain the parameter being estimated.\n",
        "\n",
        "Given a confidence *level* of 95%, a confidence *interval* is a random interval which contains the parameter being estimated 95% fo the time.\n",
        "\n",
        "Out of all intervals computed at the 95% level, 95% of them should contain the parameter's true value.\n",
        "\n",
        "3 factors influence the width of the confidence interval:\n",
        "- sample size: larger sample means more confidence, thus thinner interval\n",
        "- variability of sample: more variability widens the interval\n",
        "- confidence level: a 99% confidence interval is wider than a 95% interval."
      ],
      "metadata": {
        "id": "kNvMQ9r6bXlU"
      }
    },
    {
      "cell_type": "markdown",
      "source": [
        "## Wikipedia Example"
      ],
      "metadata": {
        "id": "JQzEgI4Hy61U"
      }
    },
    {
      "cell_type": "markdown",
      "source": [
        "([Example here](https://simple.wikipedia.org/wiki/Confidence_interval))\n",
        "\n",
        "Let's say that we have a machine that fills cups with margarine, and is configured to fill up 250g for every cup. Of-course, even machines are not perfect, so we would expect there to be a bit of a variation. Let us consider the grams it adds per cup as random variable $X$.\n",
        "\n",
        "Assume that this variation is assumed to be normally distributed around the desired average of 250g with a standard deviation of 2.5g. For now, as this is a \"classroom example\", let's ignore the practicality question of \"how do you know that it's a normal distribution\" or \"how do you know that the standard deviation is 2.5g\".\n",
        "\n",
        "To check if the machine is adequately calibrated, a sample of $n=25$ cups of margarine is chosen at random and the cups are weighted. Thus, we have 25 samples of $X$, $X_i$ where $i=1,...,25$.\n",
        "\n",
        "The estimator of the sample mean is\n",
        "$$\\hat\\mu=\\bar X=\\frac{1}{n}\\sum_{i=1}^{n}X_i$$\n",
        "\n",
        "Suppose that $\\bar x=\\frac{1}{25}\\sum_{i=1}^{25}x_i=250.2g$\n",
        "\n",
        "Of-course, it's not surprising that the mean is not exactly 250g. It also wouldn't be surprising if another 25 samples had an average of 250.4 or even 251. A value like 280 might feel perplexing though. We can frame this intuition mathematically using a confidence interval, where we calculate the high and the low point.\n",
        "\n",
        "The sample mean $\\bar X$ of a normally distributed sample is also normally distributed with mean $\\mu=250$ and standard deviation $\\sigma/\\sqrt{n}=2.5/\\sqrt{25}=0.5$. To standardize the random variable to distribute a nice $\\mathcal{N}(0,1)$ we use the following formula:\n",
        "$$Z=\\frac{\\bar X-\\mu}{\\sigma/\\sqrt{n}}=\\frac{\\bar X-\\mu}{0.5}$$\n",
        "\n",
        "For now we will keep $\\mu$ as flexible because it is easier to see how the math works that way.\n",
        "\n",
        "Now, we essentially want to solve for $z$ for the following:\n",
        "\n",
        "$$P(-z\\leq Z \\leq z)=1-\\alpha=0.95$$\n",
        "\n",
        "if you do not understand what the above means, it will become more clear later as we illustrate it in Python. But for now, think of it as solving for $z$ that will allow you to capture 95% of the distribution.\n",
        "\n",
        "To help us calculate this, note the following:\n",
        "\n",
        "If we define $\\Phi(z) = P(Z\\leq z)$ (the cumulative distribution function of standard normal). The total error we're allowing is 5%, but since the CDF only looks at one side of it, we have to split the alpha into two, meaning,\n",
        "\n",
        "$$\\Phi(z)=P(Z\\leq z)=1-\\frac{\\alpha}{2}$$\n",
        "\n",
        "To isolate $z$, we use the inverse,\n",
        "$$z=\\Phi^{-1}(\\Phi(z))=\\Phi^{-1}(0.975)=1.96$$\n",
        "\n",
        "Note that if $\\Phi(z)$ maps to $x$, then $\\Phi^{-1}(x)$ maps to $z$.\n",
        "\n",
        "Then we substitute the above to help solve our interval:\n",
        "\n",
        "$0.95=1-\\alpha=P(-z\\leq Z\\leq z)=P(-1.96\\leq\\frac{\\bar X-\\mu}{\\sigma/\\sqrt{n}}\\leq 1.96)$\n",
        "\n",
        "By moving terms around and plugging in the standard deviation we are left with:\n",
        "\n",
        "$P(\\bar X-0.98\\leq\\mu\\leq\\bar X+0.98)$, which, for our example is: $(249.22,251.18)$, and since $250$ is within the interval, we have no reason to believe that the machine is wrongly calibrated."
      ],
      "metadata": {
        "id": "ke64U-QPy63o"
      }
    },
    {
      "cell_type": "markdown",
      "source": [
        "## Formal Definition"
      ],
      "metadata": {
        "id": "BFy5paj7qX7C"
      }
    },
    {
      "cell_type": "markdown",
      "source": [
        "([From here](https://en.wikipedia.org/wiki/Confidence_interval))\n",
        "\n",
        "Let $X$ be a random sample from a probability distribution with statistical parameter $\\theta$ which is a quantity to be estimated, and $\\varphi$ representing quantities that are not of immediate interest.\n",
        "\n",
        "A confidence interval for the parameter $\\theta$ with confidence level $\\gamma$ is an interval $(u(X),v(X))$ determined by random variables $u(X)$ and $v(X)$ with the property:\n",
        "$$P(u(X)< \\theta< v(X))=\\gamma\\text{ for every }(\\theta,\\varphi)$$\n",
        "\n",
        "The number $\\gamma$ is often given in the formn $1-\\alpha$, where $\\alpha$ is often 0.05.\n",
        "\n",
        "It is important for the bounds $u(X),v(X)$ to be specified in such a way that as long as $X$ is collected randomly, everytime we compute a confidence interval, there is probability $\\gamma$ that it would contain $\\theta$, the true value of the parameter being estimated. This should hold true for any actual $\\theta,\\varphi$."
      ],
      "metadata": {
        "id": "u-gUNn9gqX9i"
      }
    },
    {
      "cell_type": "markdown",
      "source": [
        "## Relationship between Hypothesis Tests and Confidence Intervals."
      ],
      "metadata": {
        "id": "5pgUZ90JqX_u"
      }
    },
    {
      "cell_type": "markdown",
      "source": [
        "([source](https://imai.fas.harvard.edu/teaching/files/tests.pdf))\n",
        "\n",
        "Consider the following null hypothesis: $H_0: \\hat\\tau=\\tau_0$ where $\\tau=0$.\n",
        "\n",
        "Also assume that,\n",
        "\n",
        "$$Z=\\frac{\\hat\\tau-\\tau_0}{\\text{s.e.}}\\xrightarrow{d}\\mathcal{N}(0,1)$$\n",
        "\n",
        "Now, consider the $(1-\\alpha)\\times 100\\%$ level two-sided test where we reject the null if the observed value of $Z$ is greater in its absolute magnitude than the critical value $z_{1-\\alpha/2}$. Remember from last section that the critical value $z_{1-\\alpha/2}$ is defined through inverting $\\Phi(z_{1-\\alpha/2})=1-\\alpha/2$. So the decision rule is reject the null if and only if $|Z_{obs}|>z_{1-\\alpha/2}$.\n",
        "\n",
        "Suppose that we try different values of $\\tau_0$ and define a set of values for which we fail to reject the null. This set can be written as,\n",
        "\n",
        "(This can be read as, define set $\\mathcal{A}$ as the set of values of $\\tau_0$ where you wouldn't reject the null.)\n",
        "\n",
        "$$\\begin{align}\\mathcal{A}&=\\left\\{\\tau_0:\\left|\\frac{\\hat\\tau-\\tau_0}{\\text{s.e.}}\\right|\\leq z_{1-\\alpha/2}\\right\\}\\\\&=\\{\\tau_0:\\hat\\tau-z_{1-\\alpha/2}\\times\\text{s.e}\\leq\\tau_0\\leq\\hat\\tau+z_{1-\\alpha/2}\\times\\text{s.e}\\}\\end{align}$$\n",
        "\n",
        "The second equality shows that this set is equivalent to the confidence interval, establishing the one-to-one correspondence between statistical tests and confidence intervals.\n",
        "\n",
        "That is, we can *invert* a statistical test to obtain a confidence interval: if you collect all null values for which a $(1-\\alpha)\\times 100\\%$ level test fails to reject the null, then those values form the confidence interval of the same level.\n",
        "\n"
      ],
      "metadata": {
        "id": "FXJ3B8yH2HNi"
      }
    }
  ]
}