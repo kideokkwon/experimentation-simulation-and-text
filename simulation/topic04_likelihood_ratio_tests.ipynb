{
  "nbformat": 4,
  "nbformat_minor": 0,
  "metadata": {
    "colab": {
      "provenance": [],
      "authorship_tag": "ABX9TyOHMKNmIQlPi/UMjm721JW5"
    },
    "kernelspec": {
      "name": "python3",
      "display_name": "Python 3"
    },
    "language_info": {
      "name": "python"
    }
  },
  "cells": [
    {
      "cell_type": "markdown",
      "source": [
        "# Likelihood Ratio Tests"
      ],
      "metadata": {
        "id": "0Z9SgERi9TTu"
      }
    },
    {
      "cell_type": "markdown",
      "source": [
        "Resources:\n",
        "- https://towardsdatascience.com/the-most-important-statistical-test-dee01f4d50cf\n",
        "- https://stats.stackexchange.com/questions/599102/deriving-the-likelihood-ratio-test-statistic-for-a-normal-distribution-with-unkn\n",
        "- https://online.stat.psu.edu/stat415/book/export/html/847\n"
      ],
      "metadata": {
        "id": "xja7nnpT9V8B"
      }
    },
    {
      "cell_type": "markdown",
      "source": [
        "# Introduction"
      ],
      "metadata": {
        "id": "Pslztn279eX-"
      }
    },
    {
      "cell_type": "markdown",
      "source": [
        "The likelihood ratio (LTR) \"unifies\" frequentist statistical tests. The t-test, F-test, chi-squared test, and so on are *specific* cases (or even approximations) of the LRT.\n",
        "\n",
        "According to Wikipedia, suppose we have a statistical model with parameter space $\\Theta$. A nulll hypothesis is often stated by saying that the parameter $\\theta$ lies in a specified subset $\\Theta_0$ of $\\Theta$. The alternative hypothesis is thus that $\\theta$ lies in the complement of $\\Theta_0$. The likelihood ratio test statistic for the null hypothesis\n",
        "\n",
        "$$H_0:\\theta\\in\\Theta_0$$ is given by:\n",
        "$$\\Delta D=\\lambda_{LR}=-2\\ln\\left[\\frac{\\sup_{\\theta\\in\\Theta_0}\\mathcal{L}(\\theta)}{\\sup_{\\theta\\in\\Theta}\\mathcal{L}(\\theta)}\\right]$$\n",
        "\n",
        "Inside the bracket is the likelihood ratio, and the ratio is bounded between zero and one.\n",
        "\n",
        "Often, the likelihood-ratio test statistic is expressed as a difference between the log-likelihoods\n",
        "\n",
        "$$\\lambda_{LR}=-2\\left[\\ell(\\theta_0)-\\ell(\\hat\\theta)\\right]$$\n",
        "\n",
        "where $\\ell(\\hat\\theta)\\equiv\\ln\\left[\\sup_{\\theta\\in\\Theta}\\mathcal{L}(\\theta)\\right]$, the logarithm of the *maximized* likelihood function $\\ell$, or in other words, value of the likelihood using the parameter $\\theta$ that maximizes it.\n",
        "\n",
        "Multiplying by -2 ensures mathematically by the Wilks' theorem that $\\lambda_{LR}$ converges asymptotically to being $\\chi^2$-distributed if the null hypothesis is true. (with degrees of freedom (df) equal to the difference in df between the two models). This aamzing fact enables the majority of hypothesis testing.\n",
        "\n",
        "The use of the LTR is justified by the Neyman-Pearson lemma, which states that the LRT is the most powerful test to compare two simple hypotheses (e.g., $H_0:\\theta=0, H_a:\\theta=2$).\n",
        "\n",
        "Because the alternative hypothesis of interest is usually not simple, we instead want things like $\\theta\\neq 0$, we use MLE to reduce it to a simple one such as $\\theta=2$. This is done through (generalized) linear regression. Intuitively, if we cannot reject the null hypothesis at the MLE, then we cannot possibly reject at any other point, so the MLE is the only point that matters."
      ],
      "metadata": {
        "id": "KexnMCT19ebD"
      }
    },
    {
      "cell_type": "markdown",
      "source": [
        "# Connection to the $F$-Test"
      ],
      "metadata": {
        "id": "lw5RdEPpsdCB"
      }
    },
    {
      "cell_type": "markdown",
      "source": [
        "First as a reminder, an F-test is any statistical test used to compare the variances of two samples or the ratio of variance between multiple samples.\n",
        "\n",
        "Here are some common examples of how F-tests are used:\n",
        "- The hypothesis that the means of a given set (potentially more than 2) of normally distributed populations, all having the same standard deviation, are equal. This is the best-known F-test, playing an important role in ANOVA.\n",
        "  - F test of ANOVA follows 3 assumptions:\n",
        "    1. Normality\n",
        "    2. Homogeneity of variance\n",
        "    3. Independence of errors and random sampling\n",
        "- The hypothesis that a proposed regression model fits the data well.\n",
        "- The hypothesis that a data set in a regression analysis follows the simpler of two proposed linear models are nested within each other\n",
        "- Multiple-comparison testing is conducted using needed data in already completed F-test, if F-test leads to rejection of null and the factor under study has animpact on the dependent variable.\n",
        "\n",
        "> Now back to the article...\n",
        "\n",
        "We are essentially comparing two models; one with a constraint and one with a relaxation of the constraint, often expressed as:\n",
        "\n",
        "$$H_0:\\mu=0$$\n",
        "$$H_a:\\mu\\neq 0$$\n",
        "\n",
        "In the null model, we constrain the mean to be 0. In the alternative, we allow it to be nonzero. We then need to specify a likelihood function.\n",
        "\n",
        "For now we assume that the observations come from a normal distribution with known variance $\\sigma^2=1$\n",
        "\n",
        "> hopefully the article later explores the realistic case that you don't know that it's a normal distribution...\n",
        "\n",
        "The MLE is the sample mean. Thus:\n",
        "\n",
        "$$\\Delta D=-2\\ln\\left(\\frac{\\prod_{i=1}^N\\frac{1}{\\sqrt{2\\pi}}e^{-\\frac{x_i^2}{2}}}{\\prod_{i=1}^N\\frac{1}{\\sqrt{2\\pi}}e^{-\\frac{(x_i-\\bar x)^2}{2}}}\\right)$$\n",
        "\n",
        "trust that this equals:\n",
        "\n",
        "$$=\\left(\\sum_{i=1}^Nx_i^2\\right)-\\left(\\sum_{i=1}^N(x_i-\\bar x)^2\\right)$$\n",
        "\n",
        "through some neat algebra.\n",
        "\n",
        "This looks familiar - the regression sum of squares (SS). The $\\chi^2$-distribution is defined as the SS from a standard normal distribution so this makes sense. Since the alternative model has one extra parameter, there is 1 df in the $\\chi^2$-distribution.\n",
        "\n",
        "If the variance is unknown, the null model estimates one paramter and alternative model estimates two, so the df is still 1. This formulation is more commonly known as the ANOVA or F-test, which in this example is equivalent to the t-test on the intercept.\n",
        "\n",
        "The article then offers some R code to demonstrate this equivalence. Let's do it here in Python instead:"
      ],
      "metadata": {
        "id": "NtjMga3gyMRE"
      }
    },
    {
      "cell_type": "code",
      "source": [
        "import numpy as np\n",
        "import statsmodels.api as sm\n",
        "from scipy import stats\n",
        "import matplotlib.pyplot as plt"
      ],
      "metadata": {
        "id": "98kmEEND_fon"
      },
      "execution_count": 4,
      "outputs": []
    },
    {
      "cell_type": "code",
      "source": [
        "# generate some random normal data\n",
        "## mean of 0.5, standard deviation of 1, and 50 samples\n",
        "x = np.random.normal(loc=0.5, scale = 1, size = 50)\n",
        "\n",
        "# Plot histogram\n",
        "plt.hist(x, bins=10, color='skyblue', edgecolor='black')\n",
        "plt.xlabel('Value of x')\n",
        "plt.ylabel('Frequency')\n",
        "plt.title('Histogram of Random Data')\n",
        "plt.grid(True)\n",
        "plt.show()"
      ],
      "metadata": {
        "colab": {
          "base_uri": "https://localhost:8080/",
          "height": 472
        },
        "id": "rbmgTAF3_kPB",
        "outputId": "6aabcc3a-545c-44bb-e2c6-edd5dfba2999"
      },
      "execution_count": 6,
      "outputs": [
        {
          "output_type": "display_data",
          "data": {
            "text/plain": [
              "<Figure size 640x480 with 1 Axes>"
            ],
            "image/png": "[encoded data removed]"
          },
          "metadata": {}
        }
      ]
    },
    {
      "cell_type": "code",
      "source": [
        "# Fit models\n",
        "\n",
        "## model without intercept\n",
        "model0 = sm.OLS(x,np.zeros_like(x)).fit()\n",
        "\n",
        "## model with intercept\n",
        "model1 = sm.OLS(x, sm.add_constant(np.ones_like(x))).fit()\n",
        "\n",
        "# perform ANOVA\n",
        "anova_table = sm.stats.anova_lm(model0, model1)\n",
        "\n",
        "# model summary\n",
        "model1_summary = model1.summary()\n",
        "\n",
        "# one-sample t-test\n",
        "t_test_result = stats.ttest_1samp(x, 0)\n",
        "\n",
        "print(anova_table)\n",
        "print(model1_summary)\n",
        "print(t_test_result)"
      ],
      "metadata": {
        "colab": {
          "base_uri": "https://localhost:8080/"
        },
        "id": "TmiU4WXeANCj",
        "outputId": "2787c88c-95e3-487d-a956-706dbc90a36f"
      },
      "execution_count": 18,
      "outputs": [
        {
          "output_type": "stream",
          "name": "stdout",
          "text": [
            "   df_resid        ssr  df_diff   ss_diff         F   Pr(>F)\n",
            "0      50.0  53.824539      0.0       NaN       NaN      NaN\n",
            "1      49.0  46.480498      1.0  7.344041  7.742128  0.00764\n",
            "                            OLS Regression Results                            \n",
            "==============================================================================\n",
            "Dep. Variable:                      y   R-squared:                       0.000\n",
            "Model:                            OLS   Adj. R-squared:                  0.000\n",
            "Method:                 Least Squares   F-statistic:                       nan\n",
            "Date:                Fri, 29 Mar 2024   Prob (F-statistic):                nan\n",
            "Time:                        02:40:00   Log-Likelihood:                -69.122\n",
            "No. Observations:                  50   AIC:                             140.2\n",
            "Df Residuals:                      49   BIC:                             142.2\n",
            "Df Model:                           0                                         \n",
            "Covariance Type:            nonrobust                                         \n",
            "==============================================================================\n",
            "                 coef    std err          t      P>|t|      [0.025      0.975]\n",
            "------------------------------------------------------------------------------\n",
            "const          0.3833      0.138      2.782      0.008       0.106       0.660\n",
            "==============================================================================\n",
            "Omnibus:                        4.297   Durbin-Watson:                   1.740\n",
            "Prob(Omnibus):                  0.117   Jarque-Bera (JB):                2.688\n",
            "Skew:                           0.370   Prob(JB):                        0.261\n",
            "Kurtosis:                       2.139   Cond. No.                         1.00\n",
            "==============================================================================\n",
            "\n",
            "Notes:\n",
            "[1] Standard Errors assume that the covariance matrix of the errors is correctly specified.\n",
            "TtestResult(statistic=2.782468044109188, pvalue=0.00763963626096174, df=49)\n"
          ]
        }
      ]
    },
    {
      "cell_type": "markdown",
      "source": [
        "# Connection to the $G$-Test"
      ],
      "metadata": {
        "id": "oC8Yy-ArGcBJ"
      }
    },
    {
      "cell_type": "markdown",
      "source": [
        "Other than testing sample means, we often want to test for independence in contingency tables.\n",
        "\n",
        "> isn't this a special case of testing sample means though? at least in the 2x2 case, this is a test of two proportions\n",
        "\n",
        "Most would immediately jump to the Pearson's $\\chi^2$-Test, which is an approximation of the G-test, which is a specific case of LRT. The G-test should be default, but the Chi-Squared is more well known. Fisher's Exact Test provides exact $p$-values instead of relying on asymptotics but the factorials make it computationally impractical for large sample sizes.\n",
        "\n",
        "Take the following contingency table:\n",
        "\n",
        "|       | $y_{.1}$ | $y_{.2}$ |\n",
        "|-------|----------|----------|\n",
        "| $y_{1.}$ | $y_{11}$ | $y_{12}$ |\n",
        "| $y_{2.}$ | $y_{21}$ | $y_{22}$ |\n",
        "\n",
        "where $y_{11}+y_{12}+y_{21}+y_{22}=N$.\n",
        "\n",
        "What is the likelihood? Under independence, we can think of the data as being generated from a multinomial distribution (a generalization of the binomial distribution) where the probability of falling in each cell is\n",
        "\n",
        "$$\\pi_{ij}=\\frac{y_{i.}}{N}\\times\\frac{y_{.j}}{N}$$\n",
        "\n",
        "With dependence, the probability of falling in each cell is\n",
        "\n",
        "$$\\mu_{ij}=\\frac{y_{ij}}{N}$$\n",
        "\n",
        "Using that, we can construct our likelihood functions and eventually, with some algebra, arrive at\n",
        "\n",
        "$$\\Delta D=2\\sum_i\\sum_jy_{ij}\\ln\\left(\\frac{\\mu_{ij}}{\\pi_{ij}}\\right)$$\n",
        "\n",
        "Now the article claims that we can also alternatively easily perform this test using Poisson regression:'y ~ x1+x2' against ' y~ x1+x2+x1*x2'.\n",
        "\n",
        "When all the $\\pi N$ are large, Chi-Squared and G-test yield similar $p$-values. The $G$-test should be preferable because the LRT is the most powerful test and the distribution of the test statistic more closely matches the $\\chi^2$-distribution."
      ],
      "metadata": {
        "id": "jpX205npGglm"
      }
    },
    {
      "cell_type": "markdown",
      "source": [
        "# How to Perform LRT?"
      ],
      "metadata": {
        "id": "TUBjRxkTGgoC"
      }
    },
    {
      "cell_type": "markdown",
      "source": [
        "The general procedure for LRT is - we fit a simpler regression model and compare the deviance against a more complex model.\n",
        "\n",
        "1. Compute the maximum log likelihood under the constrained null model\n",
        "2. Compute the maximum log likelihood when the constraint is relaxed\n",
        "3. Compare $\\Delta D$ against the $\\chi^2$-distribution with the appropriate df to get the $p$-value\n",
        "\n",
        "The model in 1) has to be *nested* under 2)."
      ],
      "metadata": {
        "id": "DRK2aGaeGgqX"
      }
    },
    {
      "cell_type": "markdown",
      "source": [],
      "metadata": {
        "id": "x0gtJQCEGgsc"
      }
    }
  ]
}