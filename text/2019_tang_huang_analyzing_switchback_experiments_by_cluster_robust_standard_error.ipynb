{
  "nbformat": 4,
  "nbformat_minor": 0,
  "metadata": {
    "colab": {
      "provenance": [],
      "authorship_tag": "ABX9TyOjQnuF5570hTMCq3d0255P"
    },
    "kernelspec": {
      "name": "python3",
      "display_name": "Python 3"
    },
    "language_info": {
      "name": "python"
    }
  },
  "cells": [
    {
      "cell_type": "markdown",
      "source": [
        "# (Tang and Huang, 2019) Analyzing Switchback Experiments by Cluster Robust Standard Error to Prevent False Positive Results\n",
        "\n",
        "[Link](https://doordash.engineering/2019/09/11/cluster-robust-standard-error-in-switchback-experiments/)"
      ],
      "metadata": {
        "id": "US4nmCLTxAbg"
      }
    },
    {
      "cell_type": "markdown",
      "source": [
        "# Abstract\n",
        "\n",
        "Talks about the Cluster Robust Standard Error (CRSE) in Switchback Framework, Diff-in-Diff frameworks.\n",
        "\n"
      ],
      "metadata": {
        "id": "FeBr_2jUxAeS"
      }
    },
    {
      "cell_type": "markdown",
      "source": [
        "# Problem of Clustering\n",
        "\n",
        "## Introduction\n",
        "\n",
        "Clustering is a phenomenon that individuals are grouped into clusters and individuals within the same cluster are correlated.\n",
        "\n",
        "As a result, when applying regression models in practice, errors are independent across clusters but correlated within clusters.\n",
        "\n",
        "At DoorDash, clustering is very common. For example, deliveries are clustered on different regions or time as deliveries in the same regioni / hour would share similar characteristics like delivery duration, dasher efficiency etc.\n",
        "\n",
        "When the desired estimated treatment effect is usually at delivery level, clustering introduces problems in the regression model, as the error terms are correlated within each regional-time unit.\n",
        "\n",
        "Need a \"model free\" method that can give a correct standard error estimation while not requiring any specification of error correlation."
      ],
      "metadata": {
        "id": "t78GVW4zxAgx"
      }
    },
    {
      "cell_type": "markdown",
      "source": [
        "# Cluster Robust Standard Error\n",
        "\n",
        "## Introduction to CRSE\n",
        "\n",
        "CRSE can account for heteroskedasticity and correlations within clusters, while not making strong assumptions for error correlation.\n",
        "\n",
        "Recall the well-known formula of the solution to OLS:\n",
        "\n",
        "$$\\hat\\beta=(X^TX)^{-1}X^TY$$\n",
        "$$\\text{Var}(\\hat\\beta)=(X^TX)^{-1}X^T\\Omega X(X^TX)^{-1}$$\n",
        "\n",
        "where $\\Omega$ is the covariance matrix of the errors $V(\\mathcal{E}|X)$\n",
        "\n",
        "When we have the assumption that errors are independent and identically distributed (iid), becomes a diagonal matrix with all elements equal to $\\sigma^2$. Then we can get the variance of the estimated treatment effect:\n",
        "\n",
        "$$\\text{Var}(\\hat\\beta)=\\sigma^2(X^TX)^{-1}$$\n",
        "\n",
        "When the errors are heteroskedastic, the matrix becomes a diagonal matrix with all elements different. Then, heteroscedasticity-consistent (HC) standard errors are defined as:\n",
        "\n",
        "$$X^T\\Omega X=\\sum_{i=1}^{n}\\sigma_i^2X_i^TX_i$$\n",
        "\n",
        "When it comes to cluster standard error, we allow errors to not only be heteroskedastic but also correlated with others within the same cluster.\n",
        "\n",
        "Thus,\n",
        "\n",
        "$$X^T\\Omega X=\\sum_{g=1}^{G}X_g^TE(\\epsilon_g\\epsilon_g^T|X_g)X_g$$\n",
        "\n",
        "where $G$ is the number of clusters."
      ],
      "metadata": {
        "id": "JJ4ixQKmx8If"
      }
    }
  ]
}